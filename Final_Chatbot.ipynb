{
  "cells": [
    {
      "cell_type": "markdown",
      "metadata": {
        "id": "view-in-github",
        "colab_type": "text"
      },
      "source": [
        "<a href=\"https://colab.research.google.com/github/vaasu0065/Ayna/blob/main/Final_Chatbot.ipynb\" target=\"_parent\"><img src=\"https://colab.research.google.com/assets/colab-badge.svg\" alt=\"Open In Colab\"/></a>"
      ]
    },
    {
      "cell_type": "code",
      "execution_count": null,
      "metadata": {
        "colab": {
          "background_save": true,
          "base_uri": "https://localhost:8080/"
        },
        "id": "eyM1yrCttIh_",
        "outputId": "88f89773-2b7f-48e2-884e-b0e503d39124"
      },
      "outputs": [
        {
          "name": "stdout",
          "output_type": "stream",
          "text": [
            "Mounted at /content/drive\n",
            "Hi there! I can help you with the 3 cancers: Oral/ Breast/ Cervical!\n"
          ]
        }
      ],
      "source": [
        "from difflib import SequenceMatcher\n",
        "import operator\n",
        "\n",
        "from google.colab import drive\n",
        "drive.mount('/content/drive')\n",
        "\n",
        "def read_file_from_drive(file_path):\n",
        "    with open(file_path, 'r') as file:\n",
        "        lines = file.readlines()\n",
        "        return [line.strip() for line in lines]\n",
        "# Define file paths in your Google Drive\n",
        "oral_cancer_questions_path = '/content/oral_ques.txt'\n",
        "oral_cancer_answers_path = '/content/oral_ans.txt'\n",
        "\n",
        "cervical_cancer_questions_path = '/content/cervical_ques.txt'\n",
        "cervical_cancer_answers_path = '/content/cervical_ans.txt'\n",
        "\n",
        "breast_cancer_questions_path = '/content/breast_ques.txt'\n",
        "breast_cancer_answers_path = '/content/breast_ans.txt'\n",
        "\n",
        "# Read files using the updated paths\n",
        "oral_cancer_questions = read_file_from_drive(oral_cancer_questions_path)\n",
        "oral_cancer_answers = read_file_from_drive(oral_cancer_answers_path)\n",
        "\n",
        "cervical_cancer_questions = read_file_from_drive(cervical_cancer_questions_path)\n",
        "cervical_cancer_answers = read_file_from_drive(cervical_cancer_answers_path)\n",
        "\n",
        "breast_cancer_questions = read_file_from_drive(breast_cancer_questions_path)\n",
        "breast_cancer_answers = read_file_from_drive(breast_cancer_answers_path)\n",
        "\n",
        "def preprocess_input(user_input):\n",
        "    # Extracting essential keywords for comparison\n",
        "    keywords = user_input.lower().replace(\"what is\", \"\").replace(\"the\", \"\").split()\n",
        "    keywords.sort()\n",
        "    return \" \".join(keywords)\n",
        "\n",
        "# Function to find the most similar question\n",
        "def find_similar_question(user_question, questions_list):\n",
        "    similarities = {}\n",
        "    for question in questions_list:\n",
        "        preprocessed_user_question = preprocess_input(user_question)\n",
        "        preprocessed_question = preprocess_input(question)\n",
        "        similarities[question] = SequenceMatcher(None, preprocessed_user_question, preprocessed_question).ratio()\n",
        "\n",
        "\n",
        "    most_similar_question = max(similarities.items(), key=operator.itemgetter(1))[0]\n",
        "    max_similarity = similarities[most_similar_question]\n",
        "    return most_similar_question, max_similarity\n",
        "\n",
        "# Function to find answer to a given question\n",
        "def find_answer(user_question, questions_list, answers_list):\n",
        "    most_similar_question, similarity = find_similar_question(user_question, questions_list)\n",
        "    if similarity < 0.5:  # Set a threshold for similarity\n",
        "        return \"Apologies, I don't have information on that topic. Please ask me about Oral/ Breast/ Cervical cancer.\"\n",
        "\n",
        "    idx = questions_list.index(most_similar_question)\n",
        "    return answers_list[idx]\n",
        "\n",
        "# Chatbot interaction\n",
        "def start_chat():\n",
        "    print(\"Hi there! I can help you with the 3 cancers: Oral/ Breast/ Cervical!\")\n",
        "\n",
        "    while True:\n",
        "        user_input = input(\"You: \")\n",
        "\n",
        "        if user_input.lower() == 'bye':\n",
        "            print(\"Goodbye!\")\n",
        "            break\n",
        "        elif user_input.lower() in ['hi', 'hello','hey there','hey']:\n",
        "            print(\"Bot: Hi there! How can I assist you?\")\n",
        "        elif user_input.lower() == 'whassup':\n",
        "            print(\"Bot: Hey, what's up?\")\n",
        "        elif user_input.lower() == 'how are you':\n",
        "            print(\"Bot: I am fine. How can I assist you?\")\n",
        "        else:\n",
        "            if 'oral' in user_input.lower():\n",
        "                answer = find_answer(user_input, oral_cancer_questions, oral_cancer_answers)\n",
        "            elif 'orl' in user_input.lower() or 'orall' in user_input.lower() or 'orel' in user_input.lower():\n",
        "                correction1 = input(\"Did you mean oral cancer? \")\n",
        "                if correction1.lower().startswith(\"y\"):\n",
        "                  answer = find_answer(user_input, oral_cancer_questions, oral_cancer_answers)\n",
        "                else:\n",
        "                   print(\"Bot: How can I assist you?\")\n",
        "                   continue\n",
        "\n",
        "            elif 'cervical' in user_input.lower():\n",
        "                answer = find_answer(user_input, cervical_cancer_questions, cervical_cancer_answers)\n",
        "            elif 'servical' in user_input.lower()or 'cervicl' in user_input.lower()or'serivcal' in user_input.lower() or 'cervicle' in user_input.lower()or'cerivcal' in user_input.lower() or'cervicul' in user_input.lower() or'cerivcal' in user_input.lower() or'cervicall' in user_input.lower() or'servicel' in user_input.lower() or'cervicel' in user_input.lower()or 'cervial' in user_input.lower() :\n",
        "                 correction = input(\"Did you mean cervical cancer? \")\n",
        "                 if correction.lower().startswith(\"y\"):\n",
        "                   answer = find_answer(user_input, cervical_cancer_questions, cervical_cancer_answers)\n",
        "                 else:\n",
        "                    print(\"Bot: How can I assist you?\")\n",
        "                    continue\n",
        "\n",
        "\n",
        "            elif 'breast' in user_input.lower():\n",
        "                answer = find_answer(user_input, breast_cancer_questions, breast_cancer_answers)\n",
        "            else:\n",
        "                answer = \"Apologies, I don't have information on that topic. Please ask me about Oral/ Breast/ Cervicle cancer \"\n",
        "\n",
        "            print(\"Bot:\", answer)\n",
        "if __name__ == \"__main__\":\n",
        "    start_chat()"
      ]
    }
  ],
  "metadata": {
    "colab": {
      "provenance": [],
      "include_colab_link": true
    },
    "kernelspec": {
      "display_name": "Python 3",
      "name": "python3"
    },
    "language_info": {
      "name": "python"
    }
  },
  "nbformat": 4,
  "nbformat_minor": 0
}